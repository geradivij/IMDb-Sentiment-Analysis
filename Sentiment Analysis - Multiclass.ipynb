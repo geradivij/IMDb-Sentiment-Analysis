{
 "cells": [
  {
   "cell_type": "code",
   "execution_count": 1,
   "metadata": {},
   "outputs": [],
   "source": [
    "import numpy as np\n",
    "import pandas as pd\n",
    "import matplotlib as plt\n",
    "import seaborn as sns\n",
    "import nltk\n",
    "import sklearn\n",
    "import wordcloud\n",
    "from wordcloud import WordCloud\n",
    "import contractions\n",
    "import re\n",
    "import pickle\n",
    "import string"
   ]
  },
  {
   "cell_type": "code",
   "execution_count": 2,
   "metadata": {},
   "outputs": [],
   "source": [
    "df = pd.read_csv('Multi-class dataset/train.tsv', sep = '\\t', header = 0)\n",
    "df_test = pd.read_csv('Multi-class dataset/test.tsv', sep = '\\t', header = 0)"
   ]
  },
  {
   "cell_type": "markdown",
   "metadata": {},
   "source": [
    "The dataset consists of words and phrases taken from Rotten Tomatoes reviews along with a sentiment classification ranging from 0-4 which is defined as: <br />\n",
    "0 - negative <br/>\n",
    "1 - somewhat negative <br/>\n",
    "2 - neutral <br/>\n",
    "3 - somewhat positive <br/>\n",
    "4 - positive "
   ]
  },
  {
   "cell_type": "code",
   "execution_count": 3,
   "metadata": {},
   "outputs": [
    {
     "data": {
      "text/plain": [
       "(   PhraseId  SentenceId                                             Phrase  \\\n",
       " 0         1           1  A series of escapades demonstrating the adage ...   \n",
       " 1         2           1  A series of escapades demonstrating the adage ...   \n",
       " 2         3           1                                           A series   \n",
       " 3         4           1                                                  A   \n",
       " 4         5           1                                             series   \n",
       " \n",
       "    Sentiment  \n",
       " 0          1  \n",
       " 1          2  \n",
       " 2          2  \n",
       " 3          2  \n",
       " 4          2  ,\n",
       "         PhraseId  SentenceId                     Phrase  Sentiment\n",
       " 156055    156056        8544                  Hearst 's          2\n",
       " 156056    156057        8544  forced avuncular chortles          1\n",
       " 156057    156058        8544         avuncular chortles          3\n",
       " 156058    156059        8544                  avuncular          2\n",
       " 156059    156060        8544                   chortles          2)"
      ]
     },
     "execution_count": 3,
     "metadata": {},
     "output_type": "execute_result"
    }
   ],
   "source": [
    "(df.head()), (df.tail())"
   ]
  },
  {
   "cell_type": "markdown",
   "metadata": {},
   "source": [
    "The dataset is made from 8544 reviews of varying sentiment further divided into 156060 phrases. "
   ]
  },
  {
   "cell_type": "code",
   "execution_count": 4,
   "metadata": {},
   "outputs": [
    {
     "name": "stdout",
     "output_type": "stream",
     "text": [
      "<class 'pandas.core.frame.DataFrame'>\n",
      "RangeIndex: 156060 entries, 0 to 156059\n",
      "Data columns (total 4 columns):\n",
      " #   Column      Non-Null Count   Dtype \n",
      "---  ------      --------------   ----- \n",
      " 0   PhraseId    156060 non-null  int64 \n",
      " 1   SentenceId  156060 non-null  int64 \n",
      " 2   Phrase      156060 non-null  object\n",
      " 3   Sentiment   156060 non-null  int64 \n",
      "dtypes: int64(3), object(1)\n",
      "memory usage: 4.8+ MB\n"
     ]
    }
   ],
   "source": [
    "df.info()"
   ]
  },
  {
   "cell_type": "code",
   "execution_count": 5,
   "metadata": {},
   "outputs": [
    {
     "data": {
      "text/plain": [
       "<AxesSubplot:xlabel='Sentiment', ylabel='count'>"
      ]
     },
     "execution_count": 5,
     "metadata": {},
     "output_type": "execute_result"
    },
    {
     "data": {
      "image/png": "[encoded data removed]",
      "text/plain": [
       "<Figure size 432x288 with 1 Axes>"
      ]
     },
     "metadata": {
      "needs_background": "light"
     },
     "output_type": "display_data"
    }
   ],
   "source": [
    "sns.countplot(x = df.Sentiment, palette = 'Blues')"
   ]
  },
  {
   "cell_type": "markdown",
   "metadata": {},
   "source": [
    "The distribution of data between various sentiment labels is very skewed with over 50% of the phrases classifies as 'neutral'.<br/>\n",
    "Hence, in this case, accuracy cannot be used as a metric for classification models on this dataset. So I shall be using the F1 score as the metric since since it takes into account both precision and recall. "
   ]
  },
  {
   "cell_type": "code",
   "execution_count": 6,
   "metadata": {},
   "outputs": [
    {
     "data": {
      "text/plain": [
       "PhraseId      0\n",
       "SentenceId    0\n",
       "Phrase        0\n",
       "Sentiment     0\n",
       "dtype: int64"
      ]
     },
     "execution_count": 6,
     "metadata": {},
     "output_type": "execute_result"
    }
   ],
   "source": [
    "df.isnull().sum()"
   ]
  },
  {
   "cell_type": "markdown",
   "metadata": {},
   "source": [
    "No null values present"
   ]
  },
  {
   "cell_type": "code",
   "execution_count": 7,
   "metadata": {},
   "outputs": [
    {
     "name": "stdout",
     "output_type": "stream",
     "text": [
      "worth\n",
      "seeking\n",
      "Even fans of Ismail Merchant 's work , I suspect , would have a hard time sitting through this one .\n",
      "Even fans of Ismail Merchant 's work\n"
     ]
    }
   ],
   "source": [
    "for index, text in enumerate(df['Phrase'][79:83]):\n",
    "    print(text)"
   ]
  },
  {
   "cell_type": "markdown",
   "metadata": {},
   "source": [
    "Cleaning the text in the dataframe:"
   ]
  },
  {
   "cell_type": "code",
   "execution_count": 8,
   "metadata": {},
   "outputs": [],
   "source": [
    "def remove_numbers(text):\n",
    "    re.sub('\\w*\\d+\\w*', '', text, count = -1)\n",
    "    return text\n",
    "\n",
    "def remove_punctuation(text):\n",
    "    text = re.sub(r'[^\\w\\s]', '', text) #Removes punctuations\n",
    "    re.sub(' +',' ',text) #Removes extra whitespace\n",
    "    return text"
   ]
  },
  {
   "cell_type": "code",
   "execution_count": 9,
   "metadata": {},
   "outputs": [
    {
     "name": "stderr",
     "output_type": "stream",
     "text": [
      "<ipython-input-9-ff50701ae5a4>:6: SettingWithCopyWarning: \n",
      "A value is trying to be set on a copy of a slice from a DataFrame\n",
      "\n",
      "See the caveats in the documentation: https://pandas.pydata.org/pandas-docs/stable/user_guide/indexing.html#returning-a-view-versus-a-copy\n",
      "  df['Phrase'][ind] = review\n"
     ]
    }
   ],
   "source": [
    "for ind in df.index:\n",
    "    review = df['Phrase'][ind]\n",
    "    contractions.fix(review)\n",
    "    review = remove_numbers(review)\n",
    "    review = remove_punctuation(review)\n",
    "    df['Phrase'][ind] = review"
   ]
  },
  {
   "cell_type": "code",
   "execution_count": 10,
   "metadata": {},
   "outputs": [
    {
     "name": "stderr",
     "output_type": "stream",
     "text": [
      "<ipython-input-10-6d4c96816f28>:6: SettingWithCopyWarning: \n",
      "A value is trying to be set on a copy of a slice from a DataFrame\n",
      "\n",
      "See the caveats in the documentation: https://pandas.pydata.org/pandas-docs/stable/user_guide/indexing.html#returning-a-view-versus-a-copy\n",
      "  df_test['Phrase'][ind] = review\n"
     ]
    }
   ],
   "source": [
    "for ind in df_test.index:\n",
    "    review = df_test['Phrase'][ind]\n",
    "    contractions.fix(review)\n",
    "    review = remove_numbers(review)\n",
    "    review = remove_punctuation(review)\n",
    "    df_test['Phrase'][ind] = review"
   ]
  },
  {
   "cell_type": "code",
   "execution_count": 11,
   "metadata": {},
   "outputs": [
    {
     "name": "stdout",
     "output_type": "stream",
     "text": [
      "worth\n",
      "seeking\n",
      "Even fans of Ismail Merchant s work  I suspect  would have a hard time sitting through this one \n",
      "Even fans of Ismail Merchant s work\n"
     ]
    }
   ],
   "source": [
    "for index, text in enumerate(df['Phrase'][79:83]):\n",
    "    print(text)"
   ]
  },
  {
   "cell_type": "markdown",
   "metadata": {},
   "source": [
    "Dividing data into testing and training data"
   ]
  },
  {
   "cell_type": "code",
   "execution_count": 12,
   "metadata": {},
   "outputs": [],
   "source": [
    "X = df.Phrase\n",
    "y = df.Sentiment"
   ]
  },
  {
   "cell_type": "code",
   "execution_count": 13,
   "metadata": {},
   "outputs": [],
   "source": [
    "X_train, X_test, y_train, y_test = sklearn.model_selection.train_test_split(X, y, test_size = 0.2, stratify = y, random_state = 1)"
   ]
  },
  {
   "cell_type": "markdown",
   "metadata": {},
   "source": [
    "Plotting y_test and y_train in order to ensure that the data-split is stratified"
   ]
  },
  {
   "cell_type": "code",
   "execution_count": 14,
   "metadata": {},
   "outputs": [
    {
     "data": {
      "text/plain": [
       "<AxesSubplot:xlabel='Sentiment', ylabel='count'>"
      ]
     },
     "execution_count": 14,
     "metadata": {},
     "output_type": "execute_result"
    },
    {
     "data": {
      "image/png": "[encoded data removed]",
      "text/plain": [
       "<Figure size 432x288 with 1 Axes>"
      ]
     },
     "metadata": {
      "needs_background": "light"
     },
     "output_type": "display_data"
    }
   ],
   "source": [
    "sns.countplot(x=y_train, palette = 'Blues')"
   ]
  },
  {
   "cell_type": "code",
   "execution_count": 15,
   "metadata": {},
   "outputs": [
    {
     "data": {
      "text/plain": [
       "<AxesSubplot:xlabel='Sentiment', ylabel='count'>"
      ]
     },
     "execution_count": 15,
     "metadata": {},
     "output_type": "execute_result"
    },
    {
     "data": {
      "image/png": "[encoded data removed]",
      "text/plain": [
       "<Figure size 432x288 with 1 Axes>"
      ]
     },
     "metadata": {
      "needs_background": "light"
     },
     "output_type": "display_data"
    }
   ],
   "source": [
    "sns.countplot(x=y_test, palette = 'Blues')"
   ]
  },
  {
   "cell_type": "markdown",
   "metadata": {},
   "source": [
    "Using TF-IDF Vectorizer and applying multiple versions of the Naive-Bayes Classifier"
   ]
  },
  {
   "cell_type": "code",
   "execution_count": 16,
   "metadata": {},
   "outputs": [],
   "source": [
    "from sklearn.feature_extraction.text import TfidfVectorizer\n",
    "vec = TfidfVectorizer()\n",
    "vector_train = vec.fit_transform(X_train)\n",
    "vector_test = vec.transform(X_test)"
   ]
  },
  {
   "cell_type": "code",
   "execution_count": 17,
   "metadata": {},
   "outputs": [],
   "source": [
    "from sklearn.naive_bayes import BernoulliNB, GaussianNB, MultinomialNB\n",
    "from sklearn.metrics import f1_score"
   ]
  },
  {
   "cell_type": "code",
   "execution_count": 18,
   "metadata": {},
   "outputs": [
    {
     "name": "stdout",
     "output_type": "stream",
     "text": [
      "Bernoulli Score: 0.5687350876815177\n"
     ]
    }
   ],
   "source": [
    "bnbclf = BernoulliNB()\n",
    "bnbclf.fit(X = vector_train, y = y_train)\n",
    "print(f\"Bernoulli Score: {f1_score(y_true = y_test, y_pred = bnbclf.predict(vector_test), average = 'weighted')}\")"
   ]
  },
  {
   "cell_type": "code",
   "execution_count": 19,
   "metadata": {},
   "outputs": [
    {
     "name": "stdout",
     "output_type": "stream",
     "text": [
      "Multinomial Score: 0.5373434291497399\n"
     ]
    }
   ],
   "source": [
    "mnbclf = MultinomialNB()\n",
    "mnbclf.fit(X = vector_train, y = y_train)\n",
    "print(f\"Multinomial Score: {f1_score(y_true = y_test, y_pred = mnbclf.predict(vector_test), average = 'weighted')}\")"
   ]
  },
  {
   "cell_type": "code",
   "execution_count": 20,
   "metadata": {},
   "outputs": [
    {
     "name": "stdout",
     "output_type": "stream",
     "text": [
      "Bernoulli Score: [0.30799373 0.40333122 0.73196419 0.43320271 0.33279168]\n"
     ]
    }
   ],
   "source": [
    "bnbclf = BernoulliNB()\n",
    "bnbclf.fit(X = vector_train, y = y_train)\n",
    "print(f\"Bernoulli Score: {f1_score(y_true = y_test, y_pred = bnbclf.predict(vector_test), average = None)}\")"
   ]
  },
  {
   "cell_type": "code",
   "execution_count": 21,
   "metadata": {},
   "outputs": [],
   "source": [
    "from sklearn.svm import SVC"
   ]
  },
  {
   "cell_type": "markdown",
   "metadata": {},
   "source": [
    "Training a Support Vector Classifier for the same : "
   ]
  },
  {
   "cell_type": "code",
   "execution_count": 23,
   "metadata": {},
   "outputs": [],
   "source": [
    "svclf = SVC(kernel = 'linear', decision_function_shape='ovo')"
   ]
  },
  {
   "cell_type": "code",
   "execution_count": 24,
   "metadata": {},
   "outputs": [
    {
     "data": {
      "text/plain": [
       "SVC(decision_function_shape='ovo', kernel='linear')"
      ]
     },
     "execution_count": 24,
     "metadata": {},
     "output_type": "execute_result"
    }
   ],
   "source": [
    "svclf.fit(X = vector_train, y = y_train)"
   ]
  },
  {
   "cell_type": "code",
   "execution_count": 25,
   "metadata": {},
   "outputs": [
    {
     "name": "stdout",
     "output_type": "stream",
     "text": [
      "SVC Score: [0.32057172 0.47994412 0.76382531 0.53715309 0.3496668 ]\n"
     ]
    }
   ],
   "source": [
    "print(f\"SVC Score: {f1_score(y_true = y_test, y_pred = svclf.predict(vector_test), average = None)}\")"
   ]
  },
  {
   "cell_type": "code",
   "execution_count": 27,
   "metadata": {},
   "outputs": [
    {
     "data": {
      "text/plain": [
       "0.64279764193259"
      ]
     },
     "execution_count": 27,
     "metadata": {},
     "output_type": "execute_result"
    }
   ],
   "source": [
    "svclf.score(vector_test, y_test)"
   ]
  },
  {
   "cell_type": "markdown",
   "metadata": {},
   "source": [
    "So far, we get pretty inaccurate results with each of the algorithms, especially on the features that have a lower frequency in the dataset. To resolve this, class weights are introduced"
   ]
  },
  {
   "cell_type": "code",
   "execution_count": 30,
   "metadata": {},
   "outputs": [],
   "source": [
    "from sklearn.utils import class_weight\n",
    "cw = class_weight.compute_class_weight('balanced',classes=np.unique(y_train.to_numpy()), y = y_train)"
   ]
  },
  {
   "cell_type": "code",
   "execution_count": 32,
   "metadata": {},
   "outputs": [
    {
     "name": "stdout",
     "output_type": "stream",
     "text": [
      "Bernoulli Score: [0.38244668 0.39725747 0.72310112 0.43088639 0.43725531]\n"
     ]
    }
   ],
   "source": [
    "bnbclf = BernoulliNB()\n",
    "bnbclf.fit(X = vector_train, y = y_train, sample_weight = [cw[i] for i in y_train])\n",
    "print(f\"Bernoulli Score: {f1_score(y_true = y_test, y_pred = bnbclf.predict(vector_test), average = None)}\")"
   ]
  },
  {
   "cell_type": "code",
   "execution_count": 33,
   "metadata": {},
   "outputs": [
    {
     "name": "stdout",
     "output_type": "stream",
     "text": [
      "SVC Score: [0.42544732 0.48215201 0.71273134 0.49076517 0.48813027]\n"
     ]
    }
   ],
   "source": [
    "svclf = SVC(kernel = 'linear', decision_function_shape='ovo', class_weight = 'balanced')\n",
    "svclf.fit(X = vector_train, y = y_train)\n",
    "print(f\"SVC Score: {f1_score(y_true = y_test, y_pred = svclf.predict(vector_test), average = None)}\")"
   ]
  },
  {
   "cell_type": "markdown",
   "metadata": {},
   "source": [
    "While both classifers show an improved performance with weighted classes, the overall performance is still sub-par. "
   ]
  },
  {
   "cell_type": "code",
   "execution_count": null,
   "metadata": {},
   "outputs": [],
   "source": []
  }
 ],
 "metadata": {
  "kernelspec": {
   "display_name": "Python 3",
   "language": "python",
   "name": "python3"
  },
  "language_info": {
   "codemirror_mode": {
    "name": "ipython",
    "version": 3
   },
   "file_extension": ".py",
   "mimetype": "text/x-python",
   "name": "python",
   "nbconvert_exporter": "python",
   "pygments_lexer": "ipython3",
   "version": "3.8.5"
  }
 },
 "nbformat": 4,
 "nbformat_minor": 4
}
