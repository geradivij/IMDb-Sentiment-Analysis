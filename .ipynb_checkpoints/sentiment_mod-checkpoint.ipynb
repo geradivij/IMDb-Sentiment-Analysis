{
 "cells": [
  {
   "cell_type": "code",
   "execution_count": 1,
   "metadata": {},
   "outputs": [],
   "source": [
    "import nltk\n",
    "import random\n",
    "from nltk.classify import SklearnClassifier\n",
    "import pickle\n",
    "from nltk.tokenize import word_tokenize"
   ]
  },
  {
   "cell_type": "code",
   "execution_count": 2,
   "metadata": {},
   "outputs": [],
   "source": [
    "documents_f = open(\"pickled_algos/documents.pickle\", 'rb')\n",
    "documents = pickle.load(documents_f)\n",
    "documents_f.close()"
   ]
  },
  {
   "cell_type": "code",
   "execution_count": 3,
   "metadata": {},
   "outputs": [],
   "source": [
    "word_features_f = open(\"pickled_algos/word_features5k.pickle\", 'rb')\n",
    "words_as_feats = pickle.load(word_features_f)\n",
    "word_features_f.close()"
   ]
  },
  {
   "cell_type": "code",
   "execution_count": 4,
   "metadata": {},
   "outputs": [],
   "source": [
    "def find_features(review):\n",
    "    words_in_doc = set(review)\n",
    "    features = {}\n",
    "    for w in words_as_feats:\n",
    "        features[w] = (w in words_in_doc)\n",
    "    return features"
   ]
  },
  {
   "cell_type": "code",
   "execution_count": 6,
   "metadata": {},
   "outputs": [],
   "source": [
    "clf_f = open(\"pickled_algos/ReviewClassifier_NaiveBayes.pickle\", 'rb')\n",
    "clf = pickle.load(clf_f)\n",
    "clf_f.close()"
   ]
  },
  {
   "cell_type": "code",
   "execution_count": 7,
   "metadata": {},
   "outputs": [],
   "source": [
    "def sentiment(text):\n",
    "    word_in_text = word_tokenize(text)\n",
    "    feats = find_features(word_in_text)\n",
    "    return clf.classify(feats)"
   ]
  },
  {
   "cell_type": "code",
   "execution_count": null,
   "metadata": {},
   "outputs": [],
   "source": []
  }
 ],
 "metadata": {
  "kernelspec": {
   "display_name": "Python 3",
   "language": "python",
   "name": "python3"
  },
  "language_info": {
   "codemirror_mode": {
    "name": "ipython",
    "version": 3
   },
   "file_extension": ".py",
   "mimetype": "text/x-python",
   "name": "python",
   "nbconvert_exporter": "python",
   "pygments_lexer": "ipython3",
   "version": "3.8.5"
  }
 },
 "nbformat": 4,
 "nbformat_minor": 4
}
